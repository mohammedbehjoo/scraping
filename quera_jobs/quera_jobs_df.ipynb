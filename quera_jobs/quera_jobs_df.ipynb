{
 "cells": [
  {
   "cell_type": "code",
   "execution_count": 1,
   "metadata": {},
   "outputs": [],
   "source": [
    "import pandas as pd"
   ]
  },
  {
   "cell_type": "markdown",
   "metadata": {},
   "source": [
    "## Read JSON file as a dataframe"
   ]
  },
  {
   "cell_type": "code",
   "execution_count": 3,
   "metadata": {},
   "outputs": [
    {
     "data": {
      "text/html": [
       "<div>\n",
       "<style scoped>\n",
       "    .dataframe tbody tr th:only-of-type {\n",
       "        vertical-align: middle;\n",
       "    }\n",
       "\n",
       "    .dataframe tbody tr th {\n",
       "        vertical-align: top;\n",
       "    }\n",
       "\n",
       "    .dataframe thead th {\n",
       "        text-align: right;\n",
       "    }\n",
       "</style>\n",
       "<table border=\"1\" class=\"dataframe\">\n",
       "  <thead>\n",
       "    <tr style=\"text-align: right;\">\n",
       "      <th></th>\n",
       "      <th>title</th>\n",
       "      <th>url</th>\n",
       "      <th>date</th>\n",
       "      <th>company</th>\n",
       "      <th>location</th>\n",
       "      <th>technologies</th>\n",
       "      <th>sub_technologies</th>\n",
       "      <th>level</th>\n",
       "      <th>type</th>\n",
       "      <th>remote</th>\n",
       "      <th>salary</th>\n",
       "    </tr>\n",
       "  </thead>\n",
       "  <tbody>\n",
       "    <tr>\n",
       "      <th>0</th>\n",
       "      <td>استخدام Front-end Technical Leader</td>\n",
       "      <td>https://quera.org//magnet/jobs/x7j89</td>\n",
       "      <td>۶ مرداد ۱۴۰۳،‏ ۱۱:۳۸</td>\n",
       "      <td>کاوشکام</td>\n",
       "      <td>تهران</td>\n",
       "      <td>[Vuetify.js]</td>\n",
       "      <td>[Git, Quasar Framework]</td>\n",
       "      <td>Lead</td>\n",
       "      <td>تمام‌وقت</td>\n",
       "      <td>امکان دورکاری</td>\n",
       "      <td>None</td>\n",
       "    </tr>\n",
       "    <tr>\n",
       "      <th>1</th>\n",
       "      <td>استخدام برنامه‌نویس فول‌استک (Node.js)</td>\n",
       "      <td>https://quera.org//magnet/jobs/w7mgv</td>\n",
       "      <td>۶ مرداد ۱۴۰۳،‏ ۱۱:۳۳</td>\n",
       "      <td>آزمودگان</td>\n",
       "      <td>None</td>\n",
       "      <td>[Node.js]</td>\n",
       "      <td>[React, PostgreSQL, MongoDB, Workflow Activity]</td>\n",
       "      <td>Senior</td>\n",
       "      <td>پروژه‌ای</td>\n",
       "      <td>امکان دورکاری</td>\n",
       "      <td>None</td>\n",
       "    </tr>\n",
       "    <tr>\n",
       "      <th>2</th>\n",
       "      <td>استخدام کارشناس محصول</td>\n",
       "      <td>https://quera.org//magnet/jobs/qp98x</td>\n",
       "      <td>۵ مرداد ۱۴۰۳،‏ ۳:۱۰</td>\n",
       "      <td>فناپ تلکام</td>\n",
       "      <td>تهران</td>\n",
       "      <td>[Software Design]</td>\n",
       "      <td>[Testing, Software Engineering, Telecommunicat...</td>\n",
       "      <td>Junior</td>\n",
       "      <td>تمام‌وقت</td>\n",
       "      <td>None</td>\n",
       "      <td>None</td>\n",
       "    </tr>\n",
       "    <tr>\n",
       "      <th>3</th>\n",
       "      <td>استخدام برنامه‌نویس جاوا</td>\n",
       "      <td>https://quera.org//magnet/jobs/v7xgr</td>\n",
       "      <td>۵ مرداد ۱۴۰۳،‏ ۳:۱۰</td>\n",
       "      <td>فناپ تلکام</td>\n",
       "      <td>تهران</td>\n",
       "      <td>[Java]</td>\n",
       "      <td>[MySQL, Spring, Oracle, Hibernate]</td>\n",
       "      <td>Junior</td>\n",
       "      <td>تمام‌وقت</td>\n",
       "      <td>None</td>\n",
       "      <td>None</td>\n",
       "    </tr>\n",
       "    <tr>\n",
       "      <th>4</th>\n",
       "      <td>استخدام ادمین سرور و شبکه</td>\n",
       "      <td>https://quera.org//magnet/jobs/6pj8p</td>\n",
       "      <td>۵ مرداد ۱۴۰۳،‏ ۳:۰۹</td>\n",
       "      <td>فناپ تلکام</td>\n",
       "      <td>تهران</td>\n",
       "      <td>[Linux]</td>\n",
       "      <td>[Networking, DNS, Firewall, Zabbix]</td>\n",
       "      <td>Junior</td>\n",
       "      <td>تمام‌وقت</td>\n",
       "      <td>None</td>\n",
       "      <td>None</td>\n",
       "    </tr>\n",
       "    <tr>\n",
       "      <th>...</th>\n",
       "      <td>...</td>\n",
       "      <td>...</td>\n",
       "      <td>...</td>\n",
       "      <td>...</td>\n",
       "      <td>...</td>\n",
       "      <td>...</td>\n",
       "      <td>...</td>\n",
       "      <td>...</td>\n",
       "      <td>...</td>\n",
       "      <td>...</td>\n",
       "      <td>...</td>\n",
       "    </tr>\n",
       "    <tr>\n",
       "      <th>115</th>\n",
       "      <td>استخدام کارشناس تست نرم افزار- دورکاری (QA)</td>\n",
       "      <td>https://quera.org//magnet/jobs/qpqp8</td>\n",
       "      <td>۱۰ خرداد ۱۴۰۳،‏ ۱۴:۱۵</td>\n",
       "      <td>پیشروابتکارودانش</td>\n",
       "      <td>یزد</td>\n",
       "      <td>[Testing]</td>\n",
       "      <td>[Quality Assurance]</td>\n",
       "      <td>Junior</td>\n",
       "      <td>تمام‌وقت</td>\n",
       "      <td>امکان دورکاری</td>\n",
       "      <td>None</td>\n",
       "    </tr>\n",
       "    <tr>\n",
       "      <th>116</th>\n",
       "      <td>استخدام برنامه‌نویس .NET</td>\n",
       "      <td>https://quera.org//magnet/jobs/w78w9</td>\n",
       "      <td>۱۰ خرداد ۱۴۰۳،‏ ۱۴:۱۳</td>\n",
       "      <td>سامانه سازان مدیریت اطلاعات یکپارچه سبا</td>\n",
       "      <td>تهران</td>\n",
       "      <td>[.NET]</td>\n",
       "      <td>[JavaScript, jQuery, Entity Framework, T-SQL]</td>\n",
       "      <td>Junior</td>\n",
       "      <td>تمام‌وقت</td>\n",
       "      <td>None</td>\n",
       "      <td>None</td>\n",
       "    </tr>\n",
       "    <tr>\n",
       "      <th>117</th>\n",
       "      <td>استخدام کارشناس تست نرم افزار (QA-دورکاری)</td>\n",
       "      <td>https://quera.org//magnet/jobs/dp969</td>\n",
       "      <td>۹ خرداد ۱۴۰۳،‏ ۱۱:۱۹</td>\n",
       "      <td>پیشروابتکارودانش</td>\n",
       "      <td>سنندج</td>\n",
       "      <td>[Testing]</td>\n",
       "      <td>[Quality Assurance, Manual]</td>\n",
       "      <td>Junior</td>\n",
       "      <td>تمام‌وقت</td>\n",
       "      <td>امکان دورکاری</td>\n",
       "      <td>None</td>\n",
       "    </tr>\n",
       "    <tr>\n",
       "      <th>118</th>\n",
       "      <td>استخدام توسعه‌دهنده Full Stack (Laravel)</td>\n",
       "      <td>https://quera.org//magnet/jobs/867vk</td>\n",
       "      <td>۸ خرداد ۱۴۰۳،‏ ۱۷:۰۹</td>\n",
       "      <td>آکادمی خورشید</td>\n",
       "      <td>None</td>\n",
       "      <td>[Laravel, PostgreSQL]</td>\n",
       "      <td>[MySQL, Docker, Redis]</td>\n",
       "      <td>Senior</td>\n",
       "      <td>تمام‌وقت</td>\n",
       "      <td>امکان دورکاری</td>\n",
       "      <td>None</td>\n",
       "    </tr>\n",
       "    <tr>\n",
       "      <th>119</th>\n",
       "      <td>استخدام Full Stack (امریه سربازی)</td>\n",
       "      <td>https://quera.org//magnet/jobs/x7966</td>\n",
       "      <td>۸ خرداد ۱۴۰۳،‏ ۱۷:۰۸</td>\n",
       "      <td>حسابرسیار</td>\n",
       "      <td>مشهد</td>\n",
       "      <td>[Angular, .NET Core]</td>\n",
       "      <td>[C#, ASP.NET, SQL Server]</td>\n",
       "      <td>Senior</td>\n",
       "      <td>تمام‌وقت</td>\n",
       "      <td>None</td>\n",
       "      <td>حقوق ۳۰,۰۰۰,۰۰۰ تا ۴۰,۰۰۰,۰۰۰</td>\n",
       "    </tr>\n",
       "  </tbody>\n",
       "</table>\n",
       "<p>120 rows × 11 columns</p>\n",
       "</div>"
      ],
      "text/plain": [
       "                                           title  \\\n",
       "0             استخدام Front-end Technical Leader   \n",
       "1         استخدام برنامه‌نویس فول‌استک (Node.js)   \n",
       "2                          استخدام کارشناس محصول   \n",
       "3                       استخدام برنامه‌نویس جاوا   \n",
       "4                      استخدام ادمین سرور و شبکه   \n",
       "..                                           ...   \n",
       "115  استخدام کارشناس تست نرم افزار- دورکاری (QA)   \n",
       "116                     استخدام برنامه‌نویس .NET   \n",
       "117   استخدام کارشناس تست نرم افزار (QA-دورکاری)   \n",
       "118     استخدام توسعه‌دهنده Full Stack (Laravel)   \n",
       "119            استخدام Full Stack (امریه سربازی)   \n",
       "\n",
       "                                      url                   date  \\\n",
       "0    https://quera.org//magnet/jobs/x7j89   ۶ مرداد ۱۴۰۳،‏ ۱۱:۳۸   \n",
       "1    https://quera.org//magnet/jobs/w7mgv   ۶ مرداد ۱۴۰۳،‏ ۱۱:۳۳   \n",
       "2    https://quera.org//magnet/jobs/qp98x    ۵ مرداد ۱۴۰۳،‏ ۳:۱۰   \n",
       "3    https://quera.org//magnet/jobs/v7xgr    ۵ مرداد ۱۴۰۳،‏ ۳:۱۰   \n",
       "4    https://quera.org//magnet/jobs/6pj8p    ۵ مرداد ۱۴۰۳،‏ ۳:۰۹   \n",
       "..                                    ...                    ...   \n",
       "115  https://quera.org//magnet/jobs/qpqp8  ۱۰ خرداد ۱۴۰۳،‏ ۱۴:۱۵   \n",
       "116  https://quera.org//magnet/jobs/w78w9  ۱۰ خرداد ۱۴۰۳،‏ ۱۴:۱۳   \n",
       "117  https://quera.org//magnet/jobs/dp969   ۹ خرداد ۱۴۰۳،‏ ۱۱:۱۹   \n",
       "118  https://quera.org//magnet/jobs/867vk   ۸ خرداد ۱۴۰۳،‏ ۱۷:۰۹   \n",
       "119  https://quera.org//magnet/jobs/x7966   ۸ خرداد ۱۴۰۳،‏ ۱۷:۰۸   \n",
       "\n",
       "                                     company location           technologies  \\\n",
       "0                                    کاوشکام    تهران           [Vuetify.js]   \n",
       "1                                   آزمودگان     None              [Node.js]   \n",
       "2                                 فناپ تلکام    تهران      [Software Design]   \n",
       "3                                 فناپ تلکام    تهران                 [Java]   \n",
       "4                                 فناپ تلکام    تهران                [Linux]   \n",
       "..                                       ...      ...                    ...   \n",
       "115                         پیشروابتکارودانش      یزد              [Testing]   \n",
       "116  سامانه سازان مدیریت اطلاعات یکپارچه سبا    تهران                 [.NET]   \n",
       "117                         پیشروابتکارودانش    سنندج              [Testing]   \n",
       "118                            آکادمی خورشید     None  [Laravel, PostgreSQL]   \n",
       "119                                حسابرسیار     مشهد   [Angular, .NET Core]   \n",
       "\n",
       "                                      sub_technologies   level      type  \\\n",
       "0                              [Git, Quasar Framework]    Lead  تمام‌وقت   \n",
       "1      [React, PostgreSQL, MongoDB, Workflow Activity]  Senior  پروژه‌ای   \n",
       "2    [Testing, Software Engineering, Telecommunicat...  Junior  تمام‌وقت   \n",
       "3                   [MySQL, Spring, Oracle, Hibernate]  Junior  تمام‌وقت   \n",
       "4                  [Networking, DNS, Firewall, Zabbix]  Junior  تمام‌وقت   \n",
       "..                                                 ...     ...       ...   \n",
       "115                                [Quality Assurance]  Junior  تمام‌وقت   \n",
       "116      [JavaScript, jQuery, Entity Framework, T-SQL]  Junior  تمام‌وقت   \n",
       "117                        [Quality Assurance, Manual]  Junior  تمام‌وقت   \n",
       "118                             [MySQL, Docker, Redis]  Senior  تمام‌وقت   \n",
       "119                          [C#, ASP.NET, SQL Server]  Senior  تمام‌وقت   \n",
       "\n",
       "            remote                         salary  \n",
       "0    امکان دورکاری                           None  \n",
       "1    امکان دورکاری                           None  \n",
       "2             None                           None  \n",
       "3             None                           None  \n",
       "4             None                           None  \n",
       "..             ...                            ...  \n",
       "115  امکان دورکاری                           None  \n",
       "116           None                           None  \n",
       "117  امکان دورکاری                           None  \n",
       "118  امکان دورکاری                           None  \n",
       "119           None  حقوق ۳۰,۰۰۰,۰۰۰ تا ۴۰,۰۰۰,۰۰۰  \n",
       "\n",
       "[120 rows x 11 columns]"
      ]
     },
     "execution_count": 3,
     "metadata": {},
     "output_type": "execute_result"
    }
   ],
   "source": [
    "df = pd.read_json(\"quera_jobs.json\")\n",
    "df"
   ]
  },
  {
   "cell_type": "markdown",
   "metadata": {},
   "source": [
    "Number of Jobs"
   ]
  },
  {
   "cell_type": "code",
   "execution_count": 5,
   "metadata": {},
   "outputs": [
    {
     "name": "stdout",
     "output_type": "stream",
     "text": [
      "there are 120 jobs in this dataframe\n"
     ]
    }
   ],
   "source": [
    "print(\"there are {} jobs in this dataframe\".format(len(df)))"
   ]
  },
  {
   "cell_type": "markdown",
   "metadata": {},
   "source": [
    "Let's see the head and tail of the df"
   ]
  },
  {
   "cell_type": "code",
   "execution_count": 6,
   "metadata": {},
   "outputs": [
    {
     "data": {
      "text/html": [
       "<div>\n",
       "<style scoped>\n",
       "    .dataframe tbody tr th:only-of-type {\n",
       "        vertical-align: middle;\n",
       "    }\n",
       "\n",
       "    .dataframe tbody tr th {\n",
       "        vertical-align: top;\n",
       "    }\n",
       "\n",
       "    .dataframe thead th {\n",
       "        text-align: right;\n",
       "    }\n",
       "</style>\n",
       "<table border=\"1\" class=\"dataframe\">\n",
       "  <thead>\n",
       "    <tr style=\"text-align: right;\">\n",
       "      <th></th>\n",
       "      <th>title</th>\n",
       "      <th>url</th>\n",
       "      <th>date</th>\n",
       "      <th>company</th>\n",
       "      <th>location</th>\n",
       "      <th>technologies</th>\n",
       "      <th>sub_technologies</th>\n",
       "      <th>level</th>\n",
       "      <th>type</th>\n",
       "      <th>remote</th>\n",
       "      <th>salary</th>\n",
       "    </tr>\n",
       "  </thead>\n",
       "  <tbody>\n",
       "    <tr>\n",
       "      <th>0</th>\n",
       "      <td>استخدام Front-end Technical Leader</td>\n",
       "      <td>https://quera.org//magnet/jobs/x7j89</td>\n",
       "      <td>۶ مرداد ۱۴۰۳،‏ ۱۱:۳۸</td>\n",
       "      <td>کاوشکام</td>\n",
       "      <td>تهران</td>\n",
       "      <td>[Vuetify.js]</td>\n",
       "      <td>[Git, Quasar Framework]</td>\n",
       "      <td>Lead</td>\n",
       "      <td>تمام‌وقت</td>\n",
       "      <td>امکان دورکاری</td>\n",
       "      <td>None</td>\n",
       "    </tr>\n",
       "    <tr>\n",
       "      <th>1</th>\n",
       "      <td>استخدام برنامه‌نویس فول‌استک (Node.js)</td>\n",
       "      <td>https://quera.org//magnet/jobs/w7mgv</td>\n",
       "      <td>۶ مرداد ۱۴۰۳،‏ ۱۱:۳۳</td>\n",
       "      <td>آزمودگان</td>\n",
       "      <td>None</td>\n",
       "      <td>[Node.js]</td>\n",
       "      <td>[React, PostgreSQL, MongoDB, Workflow Activity]</td>\n",
       "      <td>Senior</td>\n",
       "      <td>پروژه‌ای</td>\n",
       "      <td>امکان دورکاری</td>\n",
       "      <td>None</td>\n",
       "    </tr>\n",
       "    <tr>\n",
       "      <th>2</th>\n",
       "      <td>استخدام کارشناس محصول</td>\n",
       "      <td>https://quera.org//magnet/jobs/qp98x</td>\n",
       "      <td>۵ مرداد ۱۴۰۳،‏ ۳:۱۰</td>\n",
       "      <td>فناپ تلکام</td>\n",
       "      <td>تهران</td>\n",
       "      <td>[Software Design]</td>\n",
       "      <td>[Testing, Software Engineering, Telecommunicat...</td>\n",
       "      <td>Junior</td>\n",
       "      <td>تمام‌وقت</td>\n",
       "      <td>None</td>\n",
       "      <td>None</td>\n",
       "    </tr>\n",
       "    <tr>\n",
       "      <th>3</th>\n",
       "      <td>استخدام برنامه‌نویس جاوا</td>\n",
       "      <td>https://quera.org//magnet/jobs/v7xgr</td>\n",
       "      <td>۵ مرداد ۱۴۰۳،‏ ۳:۱۰</td>\n",
       "      <td>فناپ تلکام</td>\n",
       "      <td>تهران</td>\n",
       "      <td>[Java]</td>\n",
       "      <td>[MySQL, Spring, Oracle, Hibernate]</td>\n",
       "      <td>Junior</td>\n",
       "      <td>تمام‌وقت</td>\n",
       "      <td>None</td>\n",
       "      <td>None</td>\n",
       "    </tr>\n",
       "    <tr>\n",
       "      <th>4</th>\n",
       "      <td>استخدام ادمین سرور و شبکه</td>\n",
       "      <td>https://quera.org//magnet/jobs/6pj8p</td>\n",
       "      <td>۵ مرداد ۱۴۰۳،‏ ۳:۰۹</td>\n",
       "      <td>فناپ تلکام</td>\n",
       "      <td>تهران</td>\n",
       "      <td>[Linux]</td>\n",
       "      <td>[Networking, DNS, Firewall, Zabbix]</td>\n",
       "      <td>Junior</td>\n",
       "      <td>تمام‌وقت</td>\n",
       "      <td>None</td>\n",
       "      <td>None</td>\n",
       "    </tr>\n",
       "  </tbody>\n",
       "</table>\n",
       "</div>"
      ],
      "text/plain": [
       "                                    title  \\\n",
       "0      استخدام Front-end Technical Leader   \n",
       "1  استخدام برنامه‌نویس فول‌استک (Node.js)   \n",
       "2                   استخدام کارشناس محصول   \n",
       "3                استخدام برنامه‌نویس جاوا   \n",
       "4               استخدام ادمین سرور و شبکه   \n",
       "\n",
       "                                    url                  date     company  \\\n",
       "0  https://quera.org//magnet/jobs/x7j89  ۶ مرداد ۱۴۰۳،‏ ۱۱:۳۸     کاوشکام   \n",
       "1  https://quera.org//magnet/jobs/w7mgv  ۶ مرداد ۱۴۰۳،‏ ۱۱:۳۳    آزمودگان   \n",
       "2  https://quera.org//magnet/jobs/qp98x   ۵ مرداد ۱۴۰۳،‏ ۳:۱۰  فناپ تلکام   \n",
       "3  https://quera.org//magnet/jobs/v7xgr   ۵ مرداد ۱۴۰۳،‏ ۳:۱۰  فناپ تلکام   \n",
       "4  https://quera.org//magnet/jobs/6pj8p   ۵ مرداد ۱۴۰۳،‏ ۳:۰۹  فناپ تلکام   \n",
       "\n",
       "  location       technologies  \\\n",
       "0    تهران       [Vuetify.js]   \n",
       "1     None          [Node.js]   \n",
       "2    تهران  [Software Design]   \n",
       "3    تهران             [Java]   \n",
       "4    تهران            [Linux]   \n",
       "\n",
       "                                    sub_technologies   level      type  \\\n",
       "0                            [Git, Quasar Framework]    Lead  تمام‌وقت   \n",
       "1    [React, PostgreSQL, MongoDB, Workflow Activity]  Senior  پروژه‌ای   \n",
       "2  [Testing, Software Engineering, Telecommunicat...  Junior  تمام‌وقت   \n",
       "3                 [MySQL, Spring, Oracle, Hibernate]  Junior  تمام‌وقت   \n",
       "4                [Networking, DNS, Firewall, Zabbix]  Junior  تمام‌وقت   \n",
       "\n",
       "          remote salary  \n",
       "0  امکان دورکاری   None  \n",
       "1  امکان دورکاری   None  \n",
       "2           None   None  \n",
       "3           None   None  \n",
       "4           None   None  "
      ]
     },
     "execution_count": 6,
     "metadata": {},
     "output_type": "execute_result"
    }
   ],
   "source": [
    "df.head()"
   ]
  },
  {
   "cell_type": "code",
   "execution_count": 7,
   "metadata": {},
   "outputs": [
    {
     "data": {
      "text/html": [
       "<div>\n",
       "<style scoped>\n",
       "    .dataframe tbody tr th:only-of-type {\n",
       "        vertical-align: middle;\n",
       "    }\n",
       "\n",
       "    .dataframe tbody tr th {\n",
       "        vertical-align: top;\n",
       "    }\n",
       "\n",
       "    .dataframe thead th {\n",
       "        text-align: right;\n",
       "    }\n",
       "</style>\n",
       "<table border=\"1\" class=\"dataframe\">\n",
       "  <thead>\n",
       "    <tr style=\"text-align: right;\">\n",
       "      <th></th>\n",
       "      <th>title</th>\n",
       "      <th>url</th>\n",
       "      <th>date</th>\n",
       "      <th>company</th>\n",
       "      <th>location</th>\n",
       "      <th>technologies</th>\n",
       "      <th>sub_technologies</th>\n",
       "      <th>level</th>\n",
       "      <th>type</th>\n",
       "      <th>remote</th>\n",
       "      <th>salary</th>\n",
       "    </tr>\n",
       "  </thead>\n",
       "  <tbody>\n",
       "    <tr>\n",
       "      <th>115</th>\n",
       "      <td>استخدام کارشناس تست نرم افزار- دورکاری (QA)</td>\n",
       "      <td>https://quera.org//magnet/jobs/qpqp8</td>\n",
       "      <td>۱۰ خرداد ۱۴۰۳،‏ ۱۴:۱۵</td>\n",
       "      <td>پیشروابتکارودانش</td>\n",
       "      <td>یزد</td>\n",
       "      <td>[Testing]</td>\n",
       "      <td>[Quality Assurance]</td>\n",
       "      <td>Junior</td>\n",
       "      <td>تمام‌وقت</td>\n",
       "      <td>امکان دورکاری</td>\n",
       "      <td>None</td>\n",
       "    </tr>\n",
       "    <tr>\n",
       "      <th>116</th>\n",
       "      <td>استخدام برنامه‌نویس .NET</td>\n",
       "      <td>https://quera.org//magnet/jobs/w78w9</td>\n",
       "      <td>۱۰ خرداد ۱۴۰۳،‏ ۱۴:۱۳</td>\n",
       "      <td>سامانه سازان مدیریت اطلاعات یکپارچه سبا</td>\n",
       "      <td>تهران</td>\n",
       "      <td>[.NET]</td>\n",
       "      <td>[JavaScript, jQuery, Entity Framework, T-SQL]</td>\n",
       "      <td>Junior</td>\n",
       "      <td>تمام‌وقت</td>\n",
       "      <td>None</td>\n",
       "      <td>None</td>\n",
       "    </tr>\n",
       "    <tr>\n",
       "      <th>117</th>\n",
       "      <td>استخدام کارشناس تست نرم افزار (QA-دورکاری)</td>\n",
       "      <td>https://quera.org//magnet/jobs/dp969</td>\n",
       "      <td>۹ خرداد ۱۴۰۳،‏ ۱۱:۱۹</td>\n",
       "      <td>پیشروابتکارودانش</td>\n",
       "      <td>سنندج</td>\n",
       "      <td>[Testing]</td>\n",
       "      <td>[Quality Assurance, Manual]</td>\n",
       "      <td>Junior</td>\n",
       "      <td>تمام‌وقت</td>\n",
       "      <td>امکان دورکاری</td>\n",
       "      <td>None</td>\n",
       "    </tr>\n",
       "    <tr>\n",
       "      <th>118</th>\n",
       "      <td>استخدام توسعه‌دهنده Full Stack (Laravel)</td>\n",
       "      <td>https://quera.org//magnet/jobs/867vk</td>\n",
       "      <td>۸ خرداد ۱۴۰۳،‏ ۱۷:۰۹</td>\n",
       "      <td>آکادمی خورشید</td>\n",
       "      <td>None</td>\n",
       "      <td>[Laravel, PostgreSQL]</td>\n",
       "      <td>[MySQL, Docker, Redis]</td>\n",
       "      <td>Senior</td>\n",
       "      <td>تمام‌وقت</td>\n",
       "      <td>امکان دورکاری</td>\n",
       "      <td>None</td>\n",
       "    </tr>\n",
       "    <tr>\n",
       "      <th>119</th>\n",
       "      <td>استخدام Full Stack (امریه سربازی)</td>\n",
       "      <td>https://quera.org//magnet/jobs/x7966</td>\n",
       "      <td>۸ خرداد ۱۴۰۳،‏ ۱۷:۰۸</td>\n",
       "      <td>حسابرسیار</td>\n",
       "      <td>مشهد</td>\n",
       "      <td>[Angular, .NET Core]</td>\n",
       "      <td>[C#, ASP.NET, SQL Server]</td>\n",
       "      <td>Senior</td>\n",
       "      <td>تمام‌وقت</td>\n",
       "      <td>None</td>\n",
       "      <td>حقوق ۳۰,۰۰۰,۰۰۰ تا ۴۰,۰۰۰,۰۰۰</td>\n",
       "    </tr>\n",
       "  </tbody>\n",
       "</table>\n",
       "</div>"
      ],
      "text/plain": [
       "                                           title  \\\n",
       "115  استخدام کارشناس تست نرم افزار- دورکاری (QA)   \n",
       "116                     استخدام برنامه‌نویس .NET   \n",
       "117   استخدام کارشناس تست نرم افزار (QA-دورکاری)   \n",
       "118     استخدام توسعه‌دهنده Full Stack (Laravel)   \n",
       "119            استخدام Full Stack (امریه سربازی)   \n",
       "\n",
       "                                      url                   date  \\\n",
       "115  https://quera.org//magnet/jobs/qpqp8  ۱۰ خرداد ۱۴۰۳،‏ ۱۴:۱۵   \n",
       "116  https://quera.org//magnet/jobs/w78w9  ۱۰ خرداد ۱۴۰۳،‏ ۱۴:۱۳   \n",
       "117  https://quera.org//magnet/jobs/dp969   ۹ خرداد ۱۴۰۳،‏ ۱۱:۱۹   \n",
       "118  https://quera.org//magnet/jobs/867vk   ۸ خرداد ۱۴۰۳،‏ ۱۷:۰۹   \n",
       "119  https://quera.org//magnet/jobs/x7966   ۸ خرداد ۱۴۰۳،‏ ۱۷:۰۸   \n",
       "\n",
       "                                     company location           technologies  \\\n",
       "115                         پیشروابتکارودانش      یزد              [Testing]   \n",
       "116  سامانه سازان مدیریت اطلاعات یکپارچه سبا    تهران                 [.NET]   \n",
       "117                         پیشروابتکارودانش    سنندج              [Testing]   \n",
       "118                            آکادمی خورشید     None  [Laravel, PostgreSQL]   \n",
       "119                                حسابرسیار     مشهد   [Angular, .NET Core]   \n",
       "\n",
       "                                  sub_technologies   level      type  \\\n",
       "115                            [Quality Assurance]  Junior  تمام‌وقت   \n",
       "116  [JavaScript, jQuery, Entity Framework, T-SQL]  Junior  تمام‌وقت   \n",
       "117                    [Quality Assurance, Manual]  Junior  تمام‌وقت   \n",
       "118                         [MySQL, Docker, Redis]  Senior  تمام‌وقت   \n",
       "119                      [C#, ASP.NET, SQL Server]  Senior  تمام‌وقت   \n",
       "\n",
       "            remote                         salary  \n",
       "115  امکان دورکاری                           None  \n",
       "116           None                           None  \n",
       "117  امکان دورکاری                           None  \n",
       "118  امکان دورکاری                           None  \n",
       "119           None  حقوق ۳۰,۰۰۰,۰۰۰ تا ۴۰,۰۰۰,۰۰۰  "
      ]
     },
     "execution_count": 7,
     "metadata": {},
     "output_type": "execute_result"
    }
   ],
   "source": [
    "df.tail()"
   ]
  },
  {
   "cell_type": "markdown",
   "metadata": {},
   "source": [
    "## Cheking the Nan values"
   ]
  },
  {
   "cell_type": "code",
   "execution_count": 8,
   "metadata": {},
   "outputs": [
    {
     "data": {
      "text/plain": [
       "title                 0\n",
       "url                   0\n",
       "date                  0\n",
       "company               0\n",
       "location             34\n",
       "technologies          0\n",
       "sub_technologies      0\n",
       "level                 0\n",
       "type                  0\n",
       "remote               83\n",
       "salary              107\n",
       "dtype: int64"
      ]
     },
     "execution_count": 8,
     "metadata": {},
     "output_type": "execute_result"
    }
   ],
   "source": [
    "df.isnull().sum()"
   ]
  },
  {
   "cell_type": "markdown",
   "metadata": {},
   "source": [
    "## Analyzing"
   ]
  },
  {
   "cell_type": "markdown",
   "metadata": {},
   "source": [
    "🏛️ Location"
   ]
  },
  {
   "cell_type": "code",
   "execution_count": 11,
   "metadata": {},
   "outputs": [
    {
     "data": {
      "text/plain": [
       "location\n",
       "تهران     57\n",
       "اصفهان    10\n",
       "مشهد       7\n",
       "بابل       4\n",
       "یزد        2\n",
       "پردیس      1\n",
       "اهواز      1\n",
       "رشت        1\n",
       "قم         1\n",
       "تبریز      1\n",
       "سنندج      1\n",
       "Name: count, dtype: int64"
      ]
     },
     "execution_count": 11,
     "metadata": {},
     "output_type": "execute_result"
    }
   ],
   "source": [
    "df[\"location\"].value_counts()"
   ]
  },
  {
   "cell_type": "markdown",
   "metadata": {},
   "source": [
    "🕶️ Level"
   ]
  },
  {
   "cell_type": "code",
   "execution_count": 12,
   "metadata": {},
   "outputs": [
    {
     "data": {
      "text/plain": [
       "level\n",
       "Senior    63\n",
       "Junior    49\n",
       "Intern     6\n",
       "Lead       2\n",
       "Name: count, dtype: int64"
      ]
     },
     "execution_count": 12,
     "metadata": {},
     "output_type": "execute_result"
    }
   ],
   "source": [
    "df[\"level\"].value_counts()"
   ]
  },
  {
   "cell_type": "markdown",
   "metadata": {},
   "source": [
    "🧭 Type"
   ]
  },
  {
   "cell_type": "code",
   "execution_count": 13,
   "metadata": {},
   "outputs": [
    {
     "data": {
      "text/plain": [
       "type\n",
       "تمام‌وقت    106\n",
       "پاره‌وقت     11\n",
       "پروژه‌ای      3\n",
       "Name: count, dtype: int64"
      ]
     },
     "execution_count": 13,
     "metadata": {},
     "output_type": "execute_result"
    }
   ],
   "source": [
    "df[\"type\"].value_counts()"
   ]
  },
  {
   "cell_type": "markdown",
   "metadata": {},
   "source": [
    "\n",
    "🏠 Remote"
   ]
  },
  {
   "cell_type": "code",
   "execution_count": 14,
   "metadata": {},
   "outputs": [
    {
     "data": {
      "text/plain": [
       "remote\n",
       "امکان دورکاری    37\n",
       "Name: count, dtype: int64"
      ]
     },
     "execution_count": 14,
     "metadata": {},
     "output_type": "execute_result"
    }
   ],
   "source": [
    "df[\"remote\"].value_counts()"
   ]
  },
  {
   "cell_type": "markdown",
   "metadata": {},
   "source": [
    "\n",
    "🤖 Technologies\n"
   ]
  },
  {
   "cell_type": "code",
   "execution_count": 24,
   "metadata": {},
   "outputs": [
    {
     "data": {
      "text/plain": [
       "[('React', 15),\n",
       " ('Python', 12),\n",
       " ('C#', 10),\n",
       " ('PHP', 7),\n",
       " ('Testing', 6),\n",
       " ('Java', 5),\n",
       " ('JavaScript', 5),\n",
       " ('Next.js', 5),\n",
       " ('.NET', 5),\n",
       " ('OOP', 5)]"
      ]
     },
     "execution_count": 24,
     "metadata": {},
     "output_type": "execute_result"
    }
   ],
   "source": [
    "from collections import Counter\n",
    "\n",
    "all_tech = []\n",
    "for technologies in df['technologies']:\n",
    "    all_tech.extend(technologies)\n",
    "\n",
    "Counter(all_tech).most_common(10)"
   ]
  },
  {
   "cell_type": "markdown",
   "metadata": {},
   "source": [
    "\n",
    "🦾 Sub-technologies\n"
   ]
  },
  {
   "cell_type": "code",
   "execution_count": 25,
   "metadata": {},
   "outputs": [
    {
     "data": {
      "text/plain": [
       "[('JavaScript', 14),\n",
       " ('CSS', 13),\n",
       " ('Git', 12),\n",
       " ('SQL', 12),\n",
       " ('Linux', 9),\n",
       " ('C#', 8),\n",
       " ('Next.js', 8),\n",
       " ('HTML', 7),\n",
       " ('HTML5', 7),\n",
       " ('Redis', 7)]"
      ]
     },
     "execution_count": 25,
     "metadata": {},
     "output_type": "execute_result"
    }
   ],
   "source": [
    "all_sub_tech = []\n",
    "for sub_tech in df[\"sub_technologies\"]:\n",
    "    all_sub_tech.extend(sub_tech)\n",
    "\n",
    "Counter(all_sub_tech).most_common(10)"
   ]
  },
  {
   "cell_type": "markdown",
   "metadata": {},
   "source": [
    "\n",
    "🦾🤖 Technologies and Sub-technologies\n"
   ]
  },
  {
   "cell_type": "code",
   "execution_count": 26,
   "metadata": {},
   "outputs": [
    {
     "data": {
      "text/plain": [
       "[('React', 20),\n",
       " ('JavaScript', 19),\n",
       " ('C#', 18),\n",
       " ('Python', 18),\n",
       " ('SQL', 15),\n",
       " ('CSS', 15),\n",
       " ('Next.js', 13),\n",
       " ('Git', 12),\n",
       " ('Linux', 11),\n",
       " ('HTML', 10)]"
      ]
     },
     "execution_count": 26,
     "metadata": {},
     "output_type": "execute_result"
    }
   ],
   "source": [
    "tech_together = all_tech+all_sub_tech\n",
    "Counter(tech_together).most_common(10)"
   ]
  }
 ],
 "metadata": {
  "kernelspec": {
   "display_name": "scraping",
   "language": "python",
   "name": "python3"
  },
  "language_info": {
   "codemirror_mode": {
    "name": "ipython",
    "version": 3
   },
   "file_extension": ".py",
   "mimetype": "text/x-python",
   "name": "python",
   "nbconvert_exporter": "python",
   "pygments_lexer": "ipython3",
   "version": "3.10.12"
  }
 },
 "nbformat": 4,
 "nbformat_minor": 2
}
